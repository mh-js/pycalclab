{
 "cells": [
  {
   "cell_type": "markdown",
   "metadata": {},
   "source": [
    "### TO DO: Rewrite code/outputs MATLAB -> Python/Numpy/Jupyter"
   ]
  },
  {
   "cell_type": "markdown",
   "metadata": {},
   "source": [
    "<center>The College of Staten Island, Department of Mathematics, MTH229</center>\n",
    "<center><b>Lab 1. Using MATLAB as a Calculator</b></center>\n",
    "\n",
    "# Introduction\n",
    "This project is designed to give you a brief introduction to the MATLAB software which will be used to help carry out your computer projects during this semester. This software is especially designed for mathematical, scientific and engineering applications.\n",
    "\n",
    "Many of you probably have already used a scientific or graphics calculator like the TI-84. In its simplest application, MATLAB can be used just like a graphing calculator. In this project we learn how to turn “math into MATLAB.” That is, we learn how to ask MATLAB math questions such as “what is 2+2?”\n",
    "\n",
    "## New Python topics\n",
    "\n",
    "* Arithmetic Operations and Precedence Rules\n",
    "* Function Evaluation\n",
    "* Command Line Editor (correcting errors)\n",
    "* Arrays and Tables\n",
    "* Printing Text\n",
    "* Resizing and Moving Windows\n",
    "\n",
    "## New Python commands\n",
    "\n",
    "* `;` – The semicolon suppresses the output.\n",
    "* `x=a:h:b` – This construct creates sequences of numbers.\n",
    "* `[x;y]'` – This construct creates a nice tabular look to lists of numbers.\n",
    "\n",
    "## On-line resources for MATLAB and the MATLAB projects\n",
    "\n",
    "This project, and others, are available in an on-line format. Go to the following url for more information:\n",
    "\n",
    "http://www.math.csi.cuny.edu/matlab\n",
    "\n",
    "Figure 1: Initial MATLAB window contains Command Window, Workspace viewer, and Command History panes.\n",
    "\n",
    "MATLAB is started by double clicking its desktop icon (on a typical installation of MATLAB on Windows, other installations may vary). Figure 1 shows a typical startup window. It consists of several panes. Additionally other windows, such as a help window or plot window, may appear.\n",
    "\n",
    "The visible panes in the figure are the **Command Window** which appears on the right side of the window. This window contains the command line where we type commands for MATLAB to interpret. This will be our main method to interact with MATLAB. Additionally, in the upper left pane is a Workspace viewer which shows the variables that are present in the MATLAB session, and in the lower left pane the Command History window displays the commands you have entered into the command window.\n",
    "\n",
    "Commands are typed after the **prompt**: `>>`. After they are typed in, the **Enter** key is hit to send the command to the MATLAB interpreter. MATLAB either shows the answer or will respond with an error message indicating why it couldn’t do what was requested.\n",
    "Multiple commands may be entered on the same line if the commands are separated by a semicolon `;`, or a comma `,`. As well, a semicolon at the end of a command causes its output not to be displayed."
   ]
  },
  {
   "cell_type": "markdown",
   "metadata": {},
   "source": [
    "# Arithmetic Operations\n",
    "\n",
    "We begin our explorations with MATLAB by learning how to do simple arithmetic operations:\n",
    "\n",
    "For instance, adding 2 + 2 is done with\n",
    "\n",
    "    >> 2 + 2\n",
    "    ans = 4\n",
    "\n",
    "After typing in the command `(2 + 2)`, we typed the Enter key. MATLAB responded with an answer of 4.\n",
    "\n"
   ]
  },
  {
   "cell_type": "markdown",
   "metadata": {},
   "source": [
    "Some other examples are shown below:\n",
    "\n",
    "|  | symbol | example | MATLAB response |\n",
    "| --- | --- | --- | --- |\n",
    "| addition | `+` | `>> 3+4` | `ans = 7` |\n",
    "| subtraction | `-` | `>> 5-9` | `ans = -4` |\n",
    "| multiplication | `*` | `>> 5*9` | `ans = 45` |\n",
    "| division | `/` | `>> 8/9` | `ans = 0.8889` |\n",
    "| exponentiation | `**` | `>> 5**3` | `ans = 125` |\n",
    "\n",
    "The only symbol that may need learning is the `**` for powers."
   ]
  },
  {
   "cell_type": "markdown",
   "metadata": {},
   "source": [
    "## Assignment\n",
    "\n",
    "When the command `2 + 2` is typed above, MATLAB evaluates it and responds with an answer of 4. It then forgets about this calculation because we didn’t ask for it to be saved. In order to save values we can assign the output to a variable. After doing this, we can refer to the output by the variable name.\n",
    "\n",
    "In the example below, we assign the value 18 to the variable a, the value 21 to the variable b, and the value 18 − 21 = −3 = a − b to the variable c."
   ]
  },
  {
   "cell_type": "code",
   "execution_count": 1,
   "metadata": {},
   "outputs": [],
   "source": [
    "a = 18\n",
    "b = 21\n",
    "c = a - b"
   ]
  },
  {
   "cell_type": "markdown",
   "metadata": {},
   "source": [
    "Once a value is assigned to a variable, MATLAB remembers it until that variable is reassigned.\n",
    "\n",
    "Try predicting the responses to the following MATLAB commands to check your understanding."
   ]
  },
  {
   "cell_type": "code",
   "execution_count": 2,
   "metadata": {},
   "outputs": [
    {
     "data": {
      "text/plain": [
       "16"
      ]
     },
     "execution_count": 2,
     "metadata": {},
     "output_type": "execute_result"
    }
   ],
   "source": [
    "a = 3; b = 4;c = 5;\n",
    "a=b*c\n",
    "b/a\n",
    "a=a-18\n",
    "a**b"
   ]
  },
  {
   "cell_type": "markdown",
   "metadata": {},
   "source": [
    "When you make an assignment, the variable name appears in the Workspace viewer which appears in the upper left pane of the initial MATLAB window. You can view the contents of the variable by double clicking it in the workspace viewer. Otherwise, you can enter just the variable name in the command line and its contents will be displayed."
   ]
  },
  {
   "cell_type": "markdown",
   "metadata": {},
   "source": [
    "## Exercise 1\n",
    "\n",
    "What is the output of the following commands:"
   ]
  },
  {
   "cell_type": "code",
   "execution_count": 3,
   "metadata": {},
   "outputs": [
    {
     "data": {
      "text/plain": [
       "3.8"
      ]
     },
     "execution_count": 3,
     "metadata": {},
     "output_type": "execute_result"
    }
   ],
   "source": [
    "a=3\n",
    "b=4\n",
    "c=5\n",
    "a + b/c"
   ]
  },
  {
   "cell_type": "markdown",
   "metadata": {},
   "source": [
    "**(Q1)** Circle one:\n",
    "1.  3 4/5\n",
    "1.  1.6\n",
    "1.  3.8\n",
    "1.  7/5"
   ]
  },
  {
   "cell_type": "markdown",
   "metadata": {},
   "source": [
    "Example 1:\n",
    "Assigning variables can simplify matters when used wisely. For example, when evaluating\n",
    "$$(2  −3) − (−3) \\over (−1) + 2$$\n",
    "\n",
    "One way is to write out the whole expression at once:"
   ]
  },
  {
   "cell_type": "code",
   "execution_count": 4,
   "metadata": {},
   "outputs": [
    {
     "data": {
      "text/plain": [
       "2.0"
      ]
     },
     "execution_count": 4,
     "metadata": {},
     "output_type": "execute_result"
    }
   ],
   "source": [
    "((2 - 3) - (-3))/((-1) + 2)"
   ]
  },
  {
   "cell_type": "markdown",
   "metadata": {},
   "source": [
    "There are many parentheses that are needed to get this right. This can make finding errors in our work tough. If we use spaces (which are ignored) and intermediate names, we can reduce the chance of a typing error:"
   ]
  },
  {
   "cell_type": "code",
   "execution_count": 5,
   "metadata": {},
   "outputs": [
    {
     "data": {
      "text/plain": [
       "2.0"
      ]
     },
     "execution_count": 5,
     "metadata": {},
     "output_type": "execute_result"
    }
   ],
   "source": [
    "top = (2 - 3) - (-3)\n",
    "bottom = (-1) + 2\n",
    "top/bottom"
   ]
  },
  {
   "cell_type": "markdown",
   "metadata": {},
   "source": [
    "This technique makes errors much easier to find."
   ]
  },
  {
   "cell_type": "markdown",
   "metadata": {},
   "source": [
    "## Exercise 2\n",
    "Use assignment to help you compute\n",
    "$$3 - \\frac{3^2 - 2\\cdot3}{2\\cdot3 - 2}$$"
   ]
  },
  {
   "cell_type": "code",
   "execution_count": 6,
   "metadata": {},
   "outputs": [],
   "source": [
    "# Type and run your code here.\n",
    "\n"
   ]
  },
  {
   "cell_type": "markdown",
   "metadata": {},
   "source": [
    "# Order of Operations\n",
    "What is $$5 − 2/6?$$\n",
    "\n",
    "Is it 5 − 1/3 or 3 divided by 6?\n",
    "That is, is it 5 − (2/6), or is it (5 − 2)/6?\n",
    "We should know that the first is true because division happens before subtraction. What makes knowing this necessary is because there are two operations above, subtraction and division, and the answer will depend on which is done first. The order of operations act like a traffic cop directing the flow. MATLAB uses a fairly standard order of priority (precedence) for operations: addition and subtraction have the same priority, which is below multiplication and division. Powers have the highest priority. So typing the command"
   ]
  },
  {
   "cell_type": "code",
   "execution_count": 7,
   "metadata": {},
   "outputs": [
    {
     "data": {
      "text/plain": [
       "4.666666666666667"
      ]
     },
     "execution_count": 7,
     "metadata": {},
     "output_type": "execute_result"
    }
   ],
   "source": [
    "5 - 2/6"
   ]
  },
  {
   "cell_type": "markdown",
   "metadata": {},
   "source": [
    "returns an answer of 4.6667 or 5 − 1/3, as division is done before the subtraction.\n",
    "\n",
    "In the following exercise you will review the basic order of operations."
   ]
  },
  {
   "cell_type": "markdown",
   "metadata": {},
   "source": [
    "## 3.1 Multiplication/Division vs. Addition/Subtraction\n",
    "\n",
    "## Exercise 3\n",
    "One of these things is not like the others. Which of these MATLAB commands is not like the other two? To help you out, try doing this with some values for a, b, and c, such as, a=3, b=13, c=23."
   ]
  },
  {
   "cell_type": "markdown",
   "metadata": {},
   "source": [
    "a. **(Q3)** Circle one:\n",
    "1. `a - b*c`\n",
    "1. `a - (b*c)`\n",
    "1. `(a - b)*c`\n",
    "\n",
    "b. **(Q4)** Circle one:\n",
    "1. `a*(b - c)`\n",
    "1. `(a*b) - c`\n",
    "1. `a*b - c`\n",
    "\n",
    "c. **(Q5)** Circle one:\n",
    "1. `a/b + c`\n",
    "1. `a/(b + c)`\n",
    "1. `(a/b) + c`\n",
    "\n",
    "d. **(Q6)** Circle one:\n",
    "1. `(a + b)/c`\n",
    "1. `a + (b/c)`\n",
    "1. `a + b/c`\n",
    "\n",
    "e. **(Q7)** Which operations have higher precedence? Circle one:\n",
    "1. multiplication/division\n",
    "1. addition/subtraction"
   ]
  },
  {
   "cell_type": "code",
   "execution_count": 8,
   "metadata": {},
   "outputs": [],
   "source": [
    "# Type your answer in a comment here\n",
    "\n"
   ]
  },
  {
   "cell_type": "markdown",
   "metadata": {},
   "source": [
    "## Multiplication/Division vs. Exponentiation\n",
    "\n",
    "## Exercise 4\n",
    "Repeat the same exercise with the following expressions."
   ]
  },
  {
   "cell_type": "markdown",
   "metadata": {},
   "source": [
    "a. **(Q8)** Circle one:\n",
    "1. `a**(b*c)`\n",
    "1. `(a**b)*c`\n",
    "1. `a**b*c`\n",
    "\n",
    "b. **(Q9)** Circle one:\n",
    "1. `a*(b**c)`\n",
    "1. `a*b**c`\n",
    "1. `(a*b)**c`\n",
    "\n",
    "c. **(Q10)**  Circle one:\n",
    "1. `a/b**c`\n",
    "1. `(a/b)**c`\n",
    "1. `a/(b**c)`\n",
    "\n",
    "d. **(Q11)** Circle one:\n",
    "1. `a**b/c`\n",
    "1. `(a**b)/c`\n",
    "1. `a**(b/c)`\n",
    "\n",
    "e. **(Q12)** Which operations have higher precedence? Circle one:\n",
    "1. multiplication/division\n",
    "1. exponentiation"
   ]
  },
  {
   "cell_type": "markdown",
   "metadata": {},
   "source": [
    "f. **(Q13)** Using the rules you found, evaluate the following expression and rewrite it with parentheses showing the order in which MATLAB evaluates the operations. For example, `a + b + c` = $(a + b) + c$ and not $a + (b + c)$. In this example there are 4 operations, so your answer should have 3 pairs of parentheses."
   ]
  },
  {
   "cell_type": "code",
   "execution_count": 9,
   "metadata": {},
   "outputs": [
    {
     "data": {
      "text/plain": [
       "10.0"
      ]
     },
     "execution_count": 9,
     "metadata": {},
     "output_type": "execute_result"
    }
   ],
   "source": [
    "7 - 3**2/9 + 4"
   ]
  },
  {
   "cell_type": "code",
   "execution_count": 10,
   "metadata": {},
   "outputs": [],
   "source": [
    "# Type your answer in a comment here\n",
    "\n"
   ]
  },
  {
   "cell_type": "markdown",
   "metadata": {},
   "source": [
    "## Operations with the same precedence\n",
    "How does MATLAB interpret the following commands?"
   ]
  },
  {
   "cell_type": "code",
   "execution_count": 11,
   "metadata": {},
   "outputs": [
    {
     "data": {
      "text/plain": [
       "-3"
      ]
     },
     "execution_count": 11,
     "metadata": {},
     "output_type": "execute_result"
    }
   ],
   "source": [
    "3 - 3 - 3"
   ]
  },
  {
   "cell_type": "code",
   "execution_count": 12,
   "metadata": {},
   "outputs": [
    {
     "data": {
      "text/plain": [
       "1.0"
      ]
     },
     "execution_count": 12,
     "metadata": {},
     "output_type": "execute_result"
    }
   ],
   "source": [
    "6/3/2"
   ]
  },
  {
   "cell_type": "code",
   "execution_count": 13,
   "metadata": {},
   "outputs": [
    {
     "data": {
      "text/plain": [
       "512"
      ]
     },
     "execution_count": 13,
     "metadata": {},
     "output_type": "execute_result"
    }
   ],
   "source": [
    "2**3**2"
   ]
  },
  {
   "cell_type": "markdown",
   "metadata": {},
   "source": [
    "There is an ambiguity as the answers are different if the leftmost operation is done first compared to if the rightmost one is."
   ]
  },
  {
   "cell_type": "markdown",
   "metadata": {},
   "source": [
    "## Exercise 5\n",
    "Evaluate the following expressions first using **left-to-right order**,\n",
    "and then from **right-to-left**.\n",
    "Enter both answers separated by a comma.\n",
    "1. **(Q14)** 3 − 3 − 3\n",
    "1. **(Q15)** 6 / 3 / 2\n",
    "1. **(Q16)** 2 ** 3 ** 2"
   ]
  },
  {
   "cell_type": "markdown",
   "metadata": {},
   "source": [
    "## Exercise 6\n",
    "Investigate the expressions below to see the order in which the operations are performed by MATLAB.\n",
    "(For example, does `5 − 3 − 2` = (5 − 3) − 2 or does it equal 5 − (3 − 2)?)"
   ]
  },
  {
   "cell_type": "code",
   "execution_count": 14,
   "metadata": {},
   "outputs": [
    {
     "data": {
      "text/plain": [
       "51.42857142857143"
      ]
     },
     "execution_count": 14,
     "metadata": {},
     "output_type": "execute_result"
    }
   ],
   "source": [
    "c=11\n",
    "a=1\n",
    "b=103\n",
    "c=3\n",
    "\n",
    "5 - 7 - 8\n",
    "c - a + b - c\n",
    "5/7/8\n",
    "5/7*8*9"
   ]
  },
  {
   "cell_type": "code",
   "execution_count": null,
   "metadata": {},
   "outputs": [],
   "source": []
  },
  {
   "cell_type": "markdown",
   "metadata": {},
   "source": [
    "**(Q17)** What rule(s) does MATLAB use when evaluating expressions with two or more operations of the same priority?\n",
    "Circle one:\n",
    "1. from right to left\n",
    "1. from middle to end\n",
    "1. from left to right"
   ]
  },
  {
   "cell_type": "markdown",
   "metadata": {},
   "source": [
    "## Exercise 7\n",
    "Practice what you have just reviewed to evaluate the following. Let"
   ]
  },
  {
   "cell_type": "code",
   "execution_count": 15,
   "metadata": {},
   "outputs": [],
   "source": [
    "a=4\n",
    "b=5\n",
    "c=8"
   ]
  },
  {
   "cell_type": "markdown",
   "metadata": {},
   "source": [
    "a. **(Q18)** $$a^b - c/b \\over c - a$$\n",
    "b. **(Q19)** $$ a^{c - b} \\over c - b$$\n",
    "c. **(Q20)** $$a^{3/2} \\over b$$\n",
    "d. **(Q21)** $$a - b(c - a) \\over c - a$$"
   ]
  },
  {
   "cell_type": "markdown",
   "metadata": {},
   "source": [
    "Note: A full explanation of MATLAB’s priority rules is attached to this project in the Reference Section. You may want to review this to check your answers.\n",
    "\n",
    "## Reusing previous commands\n",
    "You can save some typing if you learn how to reuse and edit your previously entered commands. The Command History window shows the commands you’ve typed during a MATLAB session. Double clicking on a command will paste it into the command window. The command history may also be accessed inside the command line by using either the up or down arrow to scroll through your previous commands.\n",
    "\n",
    "Once a command is at the `>>` prompt, you may make changes to it. Use the left or right arrows to move around, or the mouse. Then you may insert text or delete existing text.\n",
    "\n",
    "Finally, you may type ⇧⏎ (Shift+Enter) to execute the new command. You do not need to have the cursor at the end of the line to do this."
   ]
  },
  {
   "cell_type": "markdown",
   "metadata": {},
   "source": [
    "# Function evaluation\n",
    "MATLAB allows much more than just the basic arithmetic operations. Extra functionality is provided by functions, such as sin, cos, or sqrt. A function is referred to by its name and used by calling the function with its argument(s) enclosed in matching parentheses. A list of basic functions and their MATLAB equivalents is attached to the end of the project in the Reference Section.\n",
    "\n",
    "For instance, the value of $\\sqrt{15}$ is given by"
   ]
  },
  {
   "cell_type": "code",
   "execution_count": 16,
   "metadata": {},
   "outputs": [
    {
     "data": {
      "text/plain": [
       "3.872983346207417"
      ]
     },
     "execution_count": 16,
     "metadata": {},
     "output_type": "execute_result"
    }
   ],
   "source": [
    "from numpy import *\n",
    "sqrt(15)"
   ]
  },
  {
   "cell_type": "markdown",
   "metadata": {},
   "source": [
    "(The text after and including the number sign symbol is a comment and will be ignored if typed in.)\n",
    "\n",
    "Just typing the function name, without the parentheses, will show its definition.\n",
    "\n",
    "Here are a few more examples of function evaluations. Note that to get $\\pi = 3.1415\\dots$, you type `pi`; to get the number $e = e^1 = 2.7182\\dots$, you type `exp(1)`.\n",
    "\n",
    "When trying these examples, if you get an error message, check that you have spelled the function name correctly. For example, if you type `sqt(3)` (you misspelled `sqrt`), MATLAB responds with an error message:"
   ]
  },
  {
   "cell_type": "raw",
   "metadata": {},
   "source": [
    "------------------------------------------------------------------------\n",
    "NameError                              Traceback (most recent call last)\n",
    "<ipython-input-17-a2f0de13eb7d> in <module>\n",
    "----> 1 sqt(3)\n",
    "\n",
    "NameError: name 'sqt' is not defined"
   ]
  },
  {
   "cell_type": "markdown",
   "metadata": {},
   "source": [
    "Try evaluating the following using MATLAB:"
   ]
  },
  {
   "cell_type": "code",
   "execution_count": 17,
   "metadata": {},
   "outputs": [
    {
     "data": {
      "text/plain": [
       "1.0"
      ]
     },
     "execution_count": 17,
     "metadata": {},
     "output_type": "execute_result"
    }
   ],
   "source": [
    "sqrt(216)\n",
    "pi                    # pi = 3.1416... is built-in\n",
    "exp(1)                #  e = 2.7183... is not\n",
    "sin(pi/4)\n",
    "x = pi/3              # assigns x\n",
    "tan(x)                # returns 1.7321, as x = pi/3\n",
    "sin(x)**2 + cos(x)**2 # returns 1, again, as x = pi/3"
   ]
  },
  {
   "cell_type": "markdown",
   "metadata": {},
   "source": [
    "Note: you will get better precision if you do not round off intermediate computations. Try typing the following to see an example:"
   ]
  },
  {
   "cell_type": "code",
   "execution_count": 18,
   "metadata": {},
   "outputs": [
    {
     "data": {
      "text/plain": [
       "0.7071067811865476"
      ]
     },
     "execution_count": 18,
     "metadata": {},
     "output_type": "execute_result"
    }
   ],
   "source": [
    "pi/4\n",
    "sin(0.785)\n",
    "sin(pi/4)\n",
    "sqrt(2)/2"
   ]
  },
  {
   "cell_type": "markdown",
   "metadata": {},
   "source": [
    "When trigonometric functions are evaluated in MATLAB, arguments must be specified in radian measure—not in degrees. Recall, to convert from degrees to radian you multiply by $\\pi/180$."
   ]
  },
  {
   "cell_type": "markdown",
   "metadata": {},
   "source": [
    "## Exercise 8\n",
    "Use MATLAB to evaluate the following expressions.\n",
    "\n",
    "a. **(Q26)** Calculate the sine of 40 degrees using MATLAB. MATLAB uses radians for all angle measurements. You will need to convert degrees to radians first.\n",
    "\n",
    "b. **(Q27)** Evaluate $\\sin^265^\\circ$\n",
    "\n",
    "c. **(Q28)** Evaluate $e^{(10 - 8.5)/3}$\n",
    "\n",
    "d. **(Q29)** Evaluate $\\arcsin(\\sin(3\\pi/4))$"
   ]
  },
  {
   "cell_type": "markdown",
   "metadata": {},
   "source": [
    "# ~~Vectors~~ Arrays\n",
    "We will often want to apply a function to many different values of x. We’d like to do this in the most convenient manner. For example, to compute the function $f(x) = x^2\\cos^3x$ for $x = =\\pi/3, \\pi/4, \\pi/6$, we can save some work by assigning a value to x and then computing:"
   ]
  },
  {
   "cell_type": "code",
   "execution_count": 19,
   "metadata": {},
   "outputs": [
    {
     "data": {
      "text/plain": [
       "0.13707783890401892"
      ]
     },
     "execution_count": 19,
     "metadata": {},
     "output_type": "execute_result"
    }
   ],
   "source": [
    "x = pi/3\n",
    "x**2 * cos(x)**3"
   ]
  },
  {
   "cell_type": "code",
   "execution_count": 20,
   "metadata": {},
   "outputs": [
    {
     "data": {
      "text/plain": [
       "0.218089506238715"
      ]
     },
     "execution_count": 20,
     "metadata": {},
     "output_type": "execute_result"
    }
   ],
   "source": [
    "x = pi/4\n",
    "x**2 * cos(x)**3"
   ]
  },
  {
   "cell_type": "code",
   "execution_count": 21,
   "metadata": {},
   "outputs": [
    {
     "data": {
      "text/plain": [
       "0.17806933618012677"
      ]
     },
     "execution_count": 21,
     "metadata": {},
     "output_type": "execute_result"
    }
   ],
   "source": [
    "x = pi/6\n",
    "x**2 * cos(x)**3"
   ]
  },
  {
   "cell_type": "markdown",
   "metadata": {},
   "source": [
    "This allows us to make a single change to x per line, instead of changing it in both places.\n",
    "\n",
    "Although the above technique is useful, there are better ways to do this task, as the MATLAB language is written to naturally apply the same function to many different values at once. In order to do so we need to learn two things:\n",
    "1. How to store more than one number into a variable (vectors)\n",
    "1. How to apply a function to all the values of the vector simultaneously."
   ]
  },
  {
   "cell_type": "markdown",
   "metadata": {},
   "source": [
    "We use the term vector to describe a MATLAB variable that contains lots of numbers at once. Vectors are made in MATLAB using the square brackets `[]`. (MATLAB refers to vectors as arrays, a more general concept.)\n",
    "The simplest way to make a vector is to just type in the numbers you want inside of matching `[]`:\n",
    "(Don’t type the part with the `#` symbol. This is a comment to you.)\n",
    "\n",
    "    x = [1,1,2,3,5,8,13,21]      # start of Fibonacci sequence\n",
    "    x = [1 1 2 3 5 8 13 21]      # commas are optional\n",
    "    somePrimes = [2,3,5,7,11,13,17,19,23]"
   ]
  },
  {
   "cell_type": "markdown",
   "metadata": {},
   "source": [
    "## Exercise 9\n",
    "Store the number 1, 2, 3 in a vector named x.\n",
    "Answer the following for this vector.\n",
    "\n",
    "a. **(Q30)** What is `x + x`?\n",
    "Circle one:\n",
    "1. The vector [1, 4, 9]\n",
    "1. The vector [2, 4, 6]\n",
    "1. An error\n",
    "\n",
    "b. **(Q31)** What is the output of `x*x`?\n",
    "Circle one:\n",
    "1. The vector [1, 4, 9]\n",
    "1. The vector [2, 4, 6]\n",
    "1. An error\n"
   ]
  },
  {
   "cell_type": "markdown",
   "metadata": {},
   "source": [
    "## Arithmetic sequences\n",
    "\n",
    "Many of the vectors of numbers we will deal with will be arithmetic sequences:\n",
    "$$a, a + h, a + 2h, a + 3h, . . . , a + kh = b, \\quad h > 0.$$\n",
    "\n",
    "We think of this in two ways:\n",
    "1. Numbers between a and b separated by a step size of h\n",
    "1. A certain number (k + 1) of numbers evenly spaced between a and b.\n",
    "\n",
    "There are two different ways in MATLAB to generate such sequences,\n",
    "depending on how you think of the values in the sequence."
   ]
  },
  {
   "cell_type": "markdown",
   "metadata": {},
   "source": [
    "### Numbers separated by a step size h\n",
    "To generate a sequence of numbers separated by 1 is done using the `:` symbol, as in `a:b:`"
   ]
  },
  {
   "cell_type": "code",
   "execution_count": 22,
   "metadata": {},
   "outputs": [
    {
     "data": {
      "text/plain": [
       "array([1, 2, 3, 4])"
      ]
     },
     "execution_count": 22,
     "metadata": {},
     "output_type": "execute_result"
    }
   ],
   "source": [
    "r_[1:5]"
   ]
  },
  {
   "cell_type": "code",
   "execution_count": 23,
   "metadata": {},
   "outputs": [
    {
     "data": {
      "text/plain": [
       "array([-1,  0,  1,  2,  3,  4])"
      ]
     },
     "execution_count": 23,
     "metadata": {},
     "output_type": "execute_result"
    }
   ],
   "source": [
    "r_[-1:5]"
   ]
  },
  {
   "cell_type": "code",
   "execution_count": 24,
   "metadata": {},
   "outputs": [
    {
     "data": {
      "text/plain": [
       "array([-1, -2, -3, -4])"
      ]
     },
     "execution_count": 24,
     "metadata": {},
     "output_type": "execute_result"
    }
   ],
   "source": [
    "-r_[1:5]"
   ]
  },
  {
   "cell_type": "markdown",
   "metadata": {},
   "source": [
    "The last example shows that the minus sign here means multiply each entry by −1."
   ]
  },
  {
   "cell_type": "markdown",
   "metadata": {},
   "source": [
    "If we want a step size of h we use this syntax: `a:h:b`. For instance:"
   ]
  },
  {
   "cell_type": "code",
   "execution_count": 25,
   "metadata": {},
   "outputs": [
    {
     "data": {
      "text/plain": [
       "(array([0, 2, 4, 6, 8]), array([0, 2, 4, 6, 8]), array([0, 2, 4, 6]))"
      ]
     },
     "execution_count": 25,
     "metadata": {},
     "output_type": "execute_result"
    }
   ],
   "source": [
    "r_[0:10:2], r_[0:9:2], r_[0:8:2]"
   ]
  },
  {
   "cell_type": "code",
   "execution_count": 26,
   "metadata": {},
   "outputs": [
    {
     "data": {
      "text/plain": [
       "array([ 0, 15, 30, 45])"
      ]
     },
     "execution_count": 26,
     "metadata": {},
     "output_type": "execute_result"
    }
   ],
   "source": [
    "r_[0:60:15]"
   ]
  },
  {
   "cell_type": "code",
   "execution_count": 27,
   "metadata": {},
   "outputs": [
    {
     "data": {
      "text/plain": [
       "array([ 0, 15, 30, 45])"
      ]
     },
     "execution_count": 27,
     "metadata": {},
     "output_type": "execute_result"
    }
   ],
   "source": [
    "15*r_[0:4]"
   ]
  },
  {
   "cell_type": "markdown",
   "metadata": {},
   "source": [
    "## Exercise 10\n",
    "Find MATLAB commands which generate the following lists.\n",
    "Make sure your answer is correct.\n",
    "\n",
    "a. **(Q32)** The odd numbers 1, 3, ..., 99\n",
    "\n",
    "b. **(Q33)** The numbers 10, 20, 30, ..., 120"
   ]
  },
  {
   "cell_type": "markdown",
   "metadata": {},
   "source": [
    "## A fixed number of numbers\n",
    "When plotting functions we will desire a lot (say 100 or a 1000) of evenly-spaced numbers between two points. Rather than figure out the step size between the points it is more convenient to specify how many linearly spaced points we want. This is done with the linspace function. Using it as `linspace(a,b)` will produce 100 numbers between a and b. You can override the default of ~~100~~ 50 using a third argument:"
   ]
  },
  {
   "cell_type": "code",
   "execution_count": 28,
   "metadata": {},
   "outputs": [
    {
     "data": {
      "text/plain": [
       "array([0., 1., 2., 3., 4., 5.])"
      ]
     },
     "execution_count": 28,
     "metadata": {},
     "output_type": "execute_result"
    }
   ],
   "source": [
    "linspace(0,5,6)"
   ]
  },
  {
   "cell_type": "code",
   "execution_count": 29,
   "metadata": {},
   "outputs": [
    {
     "data": {
      "text/plain": [
       "array([0.        , 1.57079633, 3.14159265])"
      ]
     },
     "execution_count": 29,
     "metadata": {},
     "output_type": "execute_result"
    }
   ],
   "source": [
    "linspace(0,pi,3)"
   ]
  },
  {
   "cell_type": "markdown",
   "metadata": {},
   "source": [
    "## Exercise 11\n",
    "a. **(Q34)** What linspace command produces this output:\n",
    "\n",
    "    array([1. , 1.5, 2. , 2.5, 3. , 3.5, 4. ])\n",
    "\n",
    "Circle one:\n",
    "\n",
    "1. linspace(1,7,4)\n",
    "1. linspace(1,4,1/2)\n",
    "1. linspace(1,4,7)\n",
    "1. linspace(1,1/2,4)\n",
    "\n",
    "b. **(Q35)** What is the last value output by the command\n",
    "\n",
    "    linspace(0,pi)"
   ]
  },
  {
   "cell_type": "code",
   "execution_count": 30,
   "metadata": {},
   "outputs": [
    {
     "data": {
      "text/plain": [
       "array([1. , 1.5, 2. , 2.5, 3. , 3.5, 4. ])"
      ]
     },
     "execution_count": 30,
     "metadata": {},
     "output_type": "execute_result"
    }
   ],
   "source": [
    "linspace(1,4,7)"
   ]
  },
  {
   "cell_type": "markdown",
   "metadata": {},
   "source": [
    "## Applying arithmetic operations to vectors\n",
    "For this project, we focus on arithmetic operations which work as we would like: addition of vectors of the same size, and multiplication of a vector times a number (a scalar).\n",
    "\n",
    "For example:"
   ]
  },
  {
   "cell_type": "code",
   "execution_count": 31,
   "metadata": {},
   "outputs": [
    {
     "data": {
      "text/plain": [
       "array([1, 2, 3, 4, 5])"
      ]
     },
     "execution_count": 31,
     "metadata": {},
     "output_type": "execute_result"
    }
   ],
   "source": [
    "x = r_[1:6]\n",
    "x"
   ]
  },
  {
   "cell_type": "code",
   "execution_count": 32,
   "metadata": {},
   "outputs": [
    {
     "data": {
      "text/plain": [
       "array([ 2,  4,  6,  8, 10])"
      ]
     },
     "execution_count": 32,
     "metadata": {},
     "output_type": "execute_result"
    }
   ],
   "source": [
    "x + x"
   ]
  },
  {
   "cell_type": "code",
   "execution_count": 33,
   "metadata": {},
   "outputs": [
    {
     "data": {
      "text/plain": [
       "array([ 3,  6,  9, 12, 15])"
      ]
     },
     "execution_count": 33,
     "metadata": {},
     "output_type": "execute_result"
    }
   ],
   "source": [
    "3*x"
   ]
  },
  {
   "cell_type": "code",
   "execution_count": 34,
   "metadata": {},
   "outputs": [
    {
     "data": {
      "text/plain": [
       "array([-6, -3,  0,  3,  6])"
      ]
     },
     "execution_count": 34,
     "metadata": {},
     "output_type": "execute_result"
    }
   ],
   "source": [
    "3*(x - 3)"
   ]
  },
  {
   "cell_type": "markdown",
   "metadata": {},
   "source": [
    "This allows us to do simple transformations, such as the conversion from Celsius to Fahrenheit, or back, given by these formulas:\n",
    "$$F=9/5C+32 \\quad \\text{or} \\quad C=5/9(F−32)$$\n",
    "This is the basis of the last exercise."
   ]
  },
  {
   "cell_type": "markdown",
   "metadata": {},
   "source": [
    "## Exercise 12\n",
    "Two common measures of temperature are the Fahrenheit and the Centigrade scales.\n",
    "\n",
    "a. **(Q36)** Find room temperature in Celsius ($F = 68^\\circ$)\n",
    "\n",
    "b. **(Q37)** Find the average body temperature in Celsius ($F = 98.6^\\circ$)\n",
    "\n",
    "c. **(Q38)** Let X be a vector of Fahrenheit values between -100 and 100 in step size of 20, and Y be the corresponding Celsius values. Which MATLAB commands give this? Circle one:\n",
    "1. `X = r_[-100:110:10]; Y = 9/5*X + 32; Y`\n",
    "1. `X = r_[-100:120:20]; Y = 9/5*X + 32; Y`\n",
    "1. `X = r_[-100:110:10]; Y = 5/9*(X - 32); Y`\n",
    "1. `X = r_[-100:120:20]; Y = 5/9*(X - 32); Y`"
   ]
  },
  {
   "cell_type": "code",
   "execution_count": 35,
   "metadata": {},
   "outputs": [
    {
     "data": {
      "text/plain": [
       "array([-73.33333333, -62.22222222, -51.11111111, -40.        ,\n",
       "       -28.88888889, -17.77777778,  -6.66666667,   4.44444444,\n",
       "        15.55555556,  26.66666667,  37.77777778])"
      ]
     },
     "execution_count": 35,
     "metadata": {},
     "output_type": "execute_result"
    }
   ],
   "source": [
    "X = r_[-100:110:10]; Y = 9/5*X + 32; Y\n",
    "X = r_[-100:120:20]; Y = 9/5*X + 32; Y\n",
    "X = r_[-100:110:10]; Y = 5/9*(X - 32); Y\n",
    "X = r_[-100:120:20]; Y = 5/9*(X - 32); Y"
   ]
  },
  {
   "cell_type": "markdown",
   "metadata": {},
   "source": [
    "d. **(Q39)** If two vectors are the same length, a table can be made from them that allows you to compare their entries. The syntax is either `[X;Y]` or `[X;Y]’`. Look carefully at the table of X and Y values. At what temperature is the Celsius and Fahrenheit measurement the same?"
   ]
  },
  {
   "cell_type": "code",
   "execution_count": 36,
   "metadata": {},
   "outputs": [
    {
     "data": {
      "text/plain": [
       "array([[-100.        ,  -73.33333333],\n",
       "       [ -80.        ,  -62.22222222],\n",
       "       [ -60.        ,  -51.11111111],\n",
       "       [ -40.        ,  -40.        ],\n",
       "       [ -20.        ,  -28.88888889],\n",
       "       [   0.        ,  -17.77777778],\n",
       "       [  20.        ,   -6.66666667],\n",
       "       [  40.        ,    4.44444444],\n",
       "       [  60.        ,   15.55555556],\n",
       "       [  80.        ,   26.66666667],\n",
       "       [ 100.        ,   37.77777778]])"
      ]
     },
     "execution_count": 36,
     "metadata": {},
     "output_type": "execute_result"
    }
   ],
   "source": [
    "X = r_[-100:120:20]\n",
    "Y = 5/9*(X - 32)\n",
    "c_[X,Y]"
   ]
  },
  {
   "cell_type": "markdown",
   "metadata": {},
   "source": [
    "# Reference Section\n",
    "## Basic MATLAB commands\n",
    "| Description | Symbol(s)\n",
    "| --- | ---\n",
    "| Number (scalar) assignment | `a = 0.9` `b=1/137`\n",
    "| Vector assignment | `x = r_[0:10]` `x = r_[0:10:2]`\n",
    "| Arithmetic | `+` `-` `*` `/` `**`\n",
    "| Separator | `;`\n",
    "| Table | `c_[x,y]`"
   ]
  },
  {
   "cell_type": "code",
   "execution_count": 16,
   "metadata": {},
   "outputs": [
    {
     "data": {
      "text/plain": [
       "array([[ 0,  0],\n",
       "       [ 1,  1],\n",
       "       [ 2,  4],\n",
       "       [ 3,  9],\n",
       "       [ 4, 16],\n",
       "       [ 5, 25],\n",
       "       [ 6, 36],\n",
       "       [ 7, 49],\n",
       "       [ 8, 64],\n",
       "       [ 9, 81]])"
      ]
     },
     "execution_count": 16,
     "metadata": {},
     "output_type": "execute_result"
    }
   ],
   "source": [
    "from numpy import *\n",
    "x = r_[0:10]\n",
    "y = x**2\n",
    "c_[x,y]"
   ]
  },
  {
   "cell_type": "markdown",
   "metadata": {},
   "source": [
    "## Order of Operations\n",
    "MATLAB uses the following symbols for arithmetic operations\n",
    "\n",
    "| Operation | Symbol | Precedence | Comment |\n",
    "| --- | --- | --- | --- |\n",
    "| Exponentiation | `**` | 3 | Highest precedence\n",
    "| Multiplication | `*` | 2\n",
    "| Division | `/` | 2\n",
    "| Addition | `+` | 1 | Lowest precedence\n",
    "| Subtraction | `-` | 1 | Lowest precedence\n",
    "\n",
    "If an arithmetic expression contains nested parentheses, then the expressions contained within the innermost parentheses are evaluated first. In the absence of parentheses, the precedence rules decide the order of evaluation. The following rules apply:\n",
    "1. All operations with a higher precedence are carried out before those of lower precedences. Thus exponentiation is carried out first, then comes multiplication and division, and finally, addi- tion and subtraction.\n",
    "1. If two operations have the same precedence then the operation on the left is carried out first. This is called the left-to-right scan rule.\n",
    "The examples in the following table show how the precedence rules help interpret arithmetic expressions based on these rules. Try them out on the computer and make sure that you understand how each expression is interpreted."
   ]
  },
  {
   "cell_type": "markdown",
   "metadata": {},
   "source": [
    "| MATLAB notation | Mathematical notation | Meaning of the operation |\n",
    "| --- | --- | --- |\n",
    "| `sqrt(x)` | $\\sqrt x$ | square root\n",
    "| `abs(x)` | $|x|$ | absolute value\n",
    "| `sign(x)` | | sign of $x$\n",
    "| `exp(x)` | $e^x$ | exponential function\n",
    "| `log(x)` | $\\ln x$ | natural logarithm\n",
    "| `log10(x)` | $\\log_{10}x$ | logarithm base 10\n",
    "| `sin(x)` | $\\sin x$ | sine\n",
    "| `cos(x)` | $\\cos x$ | cosine\n",
    "| `tan(x)` | $\\tan x$ | tangent\n",
    "| `arcsin(x)` | $\\sin^{-1}x$ | inverse sine\n",
    "| `arccos(x)` | $\\cos^{-1}x$ | inverse cosine\n",
    "| `arctan(x)` | $\\tan^{-1}x$ | inverse tangent"
   ]
  },
  {
   "cell_type": "code",
   "execution_count": null,
   "metadata": {},
   "outputs": [],
   "source": []
  },
  {
   "cell_type": "markdown",
   "metadata": {},
   "source": [
    "NOTE: MATLAB may give unexpected results when working with negative numbers, since\n",
    "its default is to assume inputs and outputs are complex numbers. Try evaluating `(-4)**(1/2)`, `sqrt(-4)`, `(-8)**(1/3)`, and `log(-5)`, to see what happens. Note that `1j` represents $\\sqrt{-1}$"
   ]
  },
  {
   "cell_type": "code",
   "execution_count": 37,
   "metadata": {},
   "outputs": [
    {
     "data": {
      "text/plain": [
       "1j"
      ]
     },
     "execution_count": 37,
     "metadata": {},
     "output_type": "execute_result"
    }
   ],
   "source": [
    "1j"
   ]
  },
  {
   "cell_type": "markdown",
   "metadata": {},
   "source": [
    "The `#` and beyond are comments and need not have been typed in.\n",
    "\n",
    "*Recall from **Lab 1** that we run a cell in Jupyter Lab by pressing SHIFT+ENTER. Occationally you may have to run a cell twice to get the plot to show.*"
   ]
  },
  {
   "cell_type": "code",
   "execution_count": 11,
   "metadata": {},
   "outputs": [],
   "source": [
    "# !pip install numpy\n",
    "# !pip install matplotlib\n",
    "\n",
    "# %env\n",
    "\n",
    "# %pylab\n",
    "\n",
    "# %who\n",
    "\n",
    "# x = r_[:10]\n",
    "# y = x**2\n",
    "# plot(x,y);"
   ]
  },
  {
   "cell_type": "code",
   "execution_count": null,
   "metadata": {},
   "outputs": [],
   "source": []
  }
 ],
 "metadata": {
  "kernelspec": {
   "display_name": "Python 3",
   "language": "python",
   "name": "python3"
  },
  "language_info": {
   "codemirror_mode": {
    "name": "ipython",
    "version": 3
   },
   "file_extension": ".py",
   "mimetype": "text/x-python",
   "name": "python",
   "nbconvert_exporter": "python",
   "pygments_lexer": "ipython3",
   "version": "3.7.4"
  },
  "title": "Lab 1. Using MATLAB as a Calculator"
 },
 "nbformat": 4,
 "nbformat_minor": 4
}
