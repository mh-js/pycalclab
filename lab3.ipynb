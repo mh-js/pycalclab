{
 "cells": [
  {
   "cell_type": "markdown",
   "metadata": {},
   "source": [
    "<center>The College of Staten Island, Department of Mathematics, MTH229</center>\n",
    "<center><b>Lab 3. More on Graphing with MATLAB</b></center>"
   ]
  },
  {
   "cell_type": "markdown",
   "metadata": {},
   "source": [
    "# Introduction \n",
    "We’ve seen that basic plots may be produced in MATLAB by following three steps: produce an appropriate selection of x values; generate the corresponding y = f (x) values; plot the two vectors with the command plot(x,y).\n",
    "In this project we show how to handle various situations that arise when plotting functions that require us to think before we start making our plots. These include: figuring out an appropriate domain for the plot; plotting functions with vertical asymptotes; plotting more than one function on the same graph; and plotting functions which are defined differently over different intervals. Additionally, we learn how to add color, labels, and titles to a figure."
   ]
  },
  {
   "cell_type": "markdown",
   "metadata": {},
   "source": [
    "## New MATLAB Topics\n",
    "1. Plotting Several Functions on the Same Graph\n",
    "1. Plotting Functions Defined by Several Equations\n",
    "1. Exploring Graphs with the Mouse\n",
    "1. Annotating Graphs"
   ]
  },
  {
   "cell_type": "markdown",
   "metadata": {},
   "source": [
    "## New MATLAB Commands\n",
    "1. zoom [on off] – use the mouse to ’zoom’ in on parts of the graph. \n",
    "1. plot(x1,y1,x2,y2) – plot multiple graphs at once.\n",
    "1. hold [on off] – hold the current graph."
   ]
  },
  {
   "cell_type": "markdown",
   "metadata": {},
   "source": [
    "# Using zoom to explore a figure\n",
    "Once a function is plotted, we typically want to use the figure to answer questions about the func- tion. Example questions are: When does the function equal 0? When is the function at its lowest point? Where is the function increasing? These can be answered by focusing on one or two points on the graph. To read the values of these points we can use the label on the x and y axes. However, to get more precise answers it is useful to be able to “zoom” in on the graph to narrow the range of the axes. This can be done by replotting the function over a smaller domain. This is recommended if you want the most accuracy. However, the zoom function allows us to quickly (if not roughly) identify these points of interest.\n",
    "\n",
    "The zoom feature may be turned on by entering the command >> zoom on and turned off by entering the command >> zoom off. Alternately, on the figure window are two icons for setting the zoom features. These are shown in Figure 1.\n",
    "\n",
    "Clicking the + magnifying glass allows you to zoom into a figure. When you click the mouse anywhere in the figure, the figure will be replotted using 1/2 of each axis; in effect, you zoom in by a power of 4. If you want more than this, you can use the mouse to drag out a box on the figure. When the mouse button is released the highlighted window area is shown. The - magnifying glass reverses the zoom style."
   ]
  },
  {
   "cell_type": "markdown",
   "metadata": {},
   "source": [
    "## Exercise 1\n",
    "To illustrate, type in the following commands, which plot the function $f(x) = sin(x^2)$ over the interval $[0,\\pi]$.\n"
   ]
  },
  {
   "cell_type": "code",
   "execution_count": 1,
   "metadata": {},
   "outputs": [
    {
     "name": "stdout",
     "output_type": "stream",
     "text": [
      "Populating the interactive namespace from numpy and matplotlib\n"
     ]
    }
   ],
   "source": [
    "%pylab qt"
   ]
  },
  {
   "cell_type": "code",
   "execution_count": 2,
   "metadata": {},
   "outputs": [],
   "source": [
    "x = linspace(0, pi)\n",
    "y = sin(x**2)\n",
    "plot(x,y)\n",
    "grid()"
   ]
  },
  {
   "cell_type": "markdown",
   "metadata": {},
   "source": [
    "Now clicking in the figure window will cause the graph to be redrawn over a smaller domain.\n",
    "\n",
    "a. **(Q1)** Click near the smallest positive x in this interval where f(x)=0. (The positive x-value where the graph first crosses the x axis). What is the length of the interval shown on the y axis?\n",
    "\n",
    "b. **(Q2)** Click twice more near this point of first intersection. Estimate (no more than two decimal points) from the zoomed in graph the numeric value of the x for which f (x) = 0.\n",
    "\n",
    "c. **(Q3)** Click the - magnifying glass and zoom out. Then the + magnifying glass to zoom in. This time on the second intersection point. Click near it 3 times. Estimate this value of x for which f(x) = 0."
   ]
  },
  {
   "cell_type": "markdown",
   "metadata": {},
   "source": [
    "# Identifying an appropriate domain\n",
    "MATLAB can’t think for us, but it can help us “think easier.” Case in point, we’re often interested in plotting a function on only part of its domain. This may be where a function makes sense for a physical problem such as non-negative time, or non-negative area. Or, it may be where we can identify one cycle of a periodic function. We can analyze the function to do this, or we can use MATLAB to explore some graphs and from these decide upon an appropriate domain.\n",
    "\n",
    "## Example 1\n",
    "A baseball is thrown from center field towards home plate. Its height, y, varies as a function of time, t. It is known from high-school physics that a model for this is given by the projectile motion formula $$y = y_0 + v_0t - \\frac12 at^2,$$ where $y_0$ and $v_0$ are the initial height and upward velocity, and $a$ is the constant of acceleration. In 2\n",
    "metric units of meters and seconds, we will assume $a = 10$ instead of the more accurate 9.8 m/s$^2$\n",
    "\n",
    "Suppose a ball is thrown with an initial velocity of $v_0 = 10$ meters per second upward from an initial height of $y_0 = 2$ meters. On what realistic domain will $y(t) \\ge 0$?\n",
    "\n",
    "Mathematically, $y(t)$ is a parabola which opens downward as the $t^2$ coefficient is negative. We\n",
    "could use formulas to find a parabola’s zeroes, but using MATLAB we can have fun exploring the graph just as easily. First, we make an initial plot of the data over the interval $[0,10]$. Why that? Well time must be non-negative so t ≥ 0 is natural. As for 10, since this is supposed to model a ball being thrown, 10 seconds should be long enough, if the model is realistic."
   ]
  },
  {
   "cell_type": "code",
   "execution_count": 3,
   "metadata": {},
   "outputs": [
    {
     "data": {
      "text/plain": [
       "[<matplotlib.lines.Line2D at 0x120dda850>]"
      ]
     },
     "execution_count": 3,
     "metadata": {},
     "output_type": "execute_result"
    }
   ],
   "source": [
    "t = linspace(0,10)\n",
    "y = 2 + 10*t - (1/2)*10*t**2\n",
    "plot(t,y)"
   ]
  },
  {
   "cell_type": "markdown",
   "metadata": {},
   "source": [
    "If you make this graph, you’ll see that 10 seconds was too long. (Why). Let’s replot using an interval of [0, 2]."
   ]
  },
  {
   "cell_type": "code",
   "execution_count": 4,
   "metadata": {},
   "outputs": [
    {
     "data": {
      "text/plain": [
       "[<matplotlib.lines.Line2D at 0x122423e10>]"
      ]
     },
     "execution_count": 4,
     "metadata": {},
     "output_type": "execute_result"
    }
   ],
   "source": [
    "t = linspace(0,2)\n",
    "plot(t, 2 + 10*t - (1/2)*10*t**2)"
   ]
  },
  {
   "cell_type": "markdown",
   "metadata": {},
   "source": [
    "(We combined the definition of y directly into the plot function.)\n",
    "\n",
    "Now our interval is too small."
   ]
  },
  {
   "cell_type": "markdown",
   "metadata": {},
   "source": [
    "# Exercise 2\n",
    "**(Q4)** Replot the ball problem until you can find a good estimate for the value of b so that y(t) ≥ 0 on the interval [0, b], and is negative for t > b. What is the value of b that you found? "
   ]
  },
  {
   "cell_type": "markdown",
   "metadata": {},
   "source": [
    "## Example 2\n",
    "Now suppose we want to plot one period of this periodic sine function:\n",
    "$$f(x) = 50 + 30\\sin\\left(\\frac{2\\pi x}{365}\\right)$$\n",
    "We could try to remember the rules for the shape of sine curves based on the general format $y = d + \\sin(bx + c)$. This is best, but do you remember? What we can do **without having to remember** is to plot this formula over a few different viewing windows until we can figure it out. Here is an example with comments"
   ]
  },
  {
   "cell_type": "markdown",
   "metadata": {},
   "source": [
    "**FIGURE TWO**"
   ]
  },
  {
   "cell_type": "code",
   "execution_count": 5,
   "metadata": {},
   "outputs": [
    {
     "data": {
      "text/plain": [
       "[<matplotlib.lines.Line2D at 0x124546590>]"
      ]
     },
     "execution_count": 5,
     "metadata": {},
     "output_type": "execute_result"
    }
   ],
   "source": [
    "x=linspace(0, 2*pi)\n",
    "plot(x, 50 + 30*sin(2*pi*x/365))"
   ]
  },
  {
   "cell_type": "markdown",
   "metadata": {},
   "source": [
    "[0,2pi] is always a good start, but it is too small. Try a larger domain"
   ]
  },
  {
   "cell_type": "code",
   "execution_count": 6,
   "metadata": {},
   "outputs": [
    {
     "data": {
      "text/plain": [
       "[<matplotlib.lines.Line2D at 0x125b233d0>]"
      ]
     },
     "execution_count": 6,
     "metadata": {},
     "output_type": "execute_result"
    }
   ],
   "source": [
    "x=linspace(0,100); plot(x,50+30*sin(2*pi*x/365))"
   ]
  },
  {
   "cell_type": "markdown",
   "metadata": {},
   "source": [
    "Still too small. Be bold let’s see try 1000"
   ]
  },
  {
   "cell_type": "code",
   "execution_count": 7,
   "metadata": {},
   "outputs": [
    {
     "data": {
      "text/plain": [
       "[<matplotlib.lines.Line2D at 0x126158f90>]"
      ]
     },
     "execution_count": 7,
     "metadata": {},
     "output_type": "execute_result"
    }
   ],
   "source": [
    "x=linspace(0,1000); plot(x,50+30*sin(2*pi*x/365))"
   ]
  },
  {
   "cell_type": "markdown",
   "metadata": {},
   "source": [
    "Oops, too big now"
   ]
  },
  {
   "cell_type": "code",
   "execution_count": 8,
   "metadata": {},
   "outputs": [
    {
     "data": {
      "text/plain": [
       "[<matplotlib.lines.Line2D at 0x11f260b50>]"
      ]
     },
     "execution_count": 8,
     "metadata": {},
     "output_type": "execute_result"
    }
   ],
   "source": [
    "x=linspace(0,365)\n",
    "plot(x,50+30*sin(2*pi*x/365))"
   ]
  },
  {
   "cell_type": "markdown",
   "metadata": {},
   "source": [
    "just right. Oh yeah $T = 2\\pi/b$!\n",
    "\n",
    "That doesn’t take too long, as we only need to change one number and rerun the line. To take advantage of the “up arrow” trick, we put the commands on one line and combined the function evaluation with the plot function."
   ]
  },
  {
   "cell_type": "markdown",
   "metadata": {},
   "source": [
    "**STILL NEED PAGES 5 THRU 14**"
   ]
  },
  {
   "cell_type": "code",
   "execution_count": null,
   "metadata": {},
   "outputs": [],
   "source": []
  }
 ],
 "metadata": {
  "kernelspec": {
   "display_name": "Python 3",
   "language": "python",
   "name": "python3"
  },
  "language_info": {
   "codemirror_mode": {
    "name": "ipython",
    "version": 3
   },
   "file_extension": ".py",
   "mimetype": "text/x-python",
   "name": "python",
   "nbconvert_exporter": "python",
   "pygments_lexer": "ipython3",
   "version": "3.7.4"
  }
 },
 "nbformat": 4,
 "nbformat_minor": 4
}
