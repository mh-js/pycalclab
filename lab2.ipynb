{
 "cells": [
  {
   "cell_type": "markdown",
   "metadata": {},
   "source": [
    "The College of Staten Island, Department of Mathematics, MTH229\n",
    "\n",
    "# Lab 2. Plotting Graphs in Python\n",
    "\n",
    "## Introduction\n",
    "Mathematically, a function $f$ is a rule that assigns to each value $x$ in its domain, a corresponding value of $y$ in its range. The graph of a function is then the collection of all points $(x, y)$ such that $y = f(x)$, sketched in the Cartesian plane. Of course we can’t realistically expect to draw the (typically) infinite collection of points. In a calculus class we learn to sketch graphs by focusing on their important features: zeroes, asymptotes, limits, points of discontinuity or non-smoothness, relative maxima and minima, and points of inflection. With these important features understood, a sketch then can be drawn accurately where need be and filled in broadly otherwise.\n",
    "\n",
    "With Python we take a different approach. To plot the function $f$ over the interval $[a, b]$, we actually plot as many pairs of points $(x, y)$ as necessary to ensure an accurate representation of the graph. How many points? There are no good rules. We’ll see examples (lines) where two are enough. As well, we will see examples where we can’t possibly take enough points to do what we want. We’ll just have to get used to experimenting to find the correct amount.\n",
    "With this approach, we need to be able to do the following:\n",
    "\n",
    "* generate the $x$ values of the points in our graph,\n",
    "* generate the corresponding $y$ values,\n",
    "* plot the points and connect them with lines.\n",
    "\n",
    "We’ve seen how to make regularly spaced $x$ values using either the `r_[a:b:h]` construction or the `linspace(a,b,n)` function. In this project we’ll learn how to make the corresponding y values, and how to then make the desired plot.\n",
    "\n",
    "### New Python topics\n",
    "\n",
    "* Mathematics with arrays (\"vectors\")\n",
    "* Graphing functions using pairs of arrays\n",
    "* Printing a notebook to PDF\n",
    "\n",
    "### New Python commands\n",
    "\n",
    "* `r_[ ]` - use to make an array of numbers\n",
    "* `r_[a:b:h]` and `linspace(a,b,n)` – used to generate regularly spaced sequences of points.\n",
    "* `plot(x,y)` – plot the two lists of numbers\n",
    "* `title( )` – title our plot\n",
    "* `grid()` – add a grid to our plot"
   ]
  },
  {
   "cell_type": "markdown",
   "metadata": {},
   "source": [
    "## Graphing with Python\n",
    "Think back to how you first learned to graph a function or an equation. What would you do if you wanted to plot a graph of the parabola $y = x^2$ over the interval $-2 \\le x \\le 2$? We could choose a set of $x$ values, say, $x = −2, −1, 0, 1, 2$, then square each $x$ value to determine the corresponding $y$ value ($y = 4, 1, 0, 1, 4$). These might be displayed together, as in the following table:\n",
    "\n",
    "    x = −2, −1, 0, 1, 2\n",
    "    y = 4, 1, 0, 1, 4\n",
    "\n",
    "We would then mark each corresponding $(x, y)$ pair as a point on a Cartesian coordinate system, and connect the points with straight lines."
   ]
  },
  {
   "cell_type": "markdown",
   "metadata": {},
   "source": [
    "## Example 1\n",
    "To graph $f(x) = x^2$ over the interval $[-2, 2]$ using Python we just need to know that the plot function will make the desired plot. The `#` and beyond are comments and need not have been typed in.\n",
    "\n",
    "*Recall from **Lab 1** that we run a cell in Jupyter Lab by pressing SHIFT+ENTER. Occationally you may have to run a cell twice to get the plot to show.*"
   ]
  },
  {
   "cell_type": "code",
   "execution_count": null,
   "metadata": {},
   "outputs": [],
   "source": [
    "from matplotlib.pyplot import *\n",
    "from numpy import *\n",
    "\n",
    "x = r_[-2, -1, 0, 1, 2] # This is a comment!\n",
    "y = r_[4, 1, 0, 1, 4]\n",
    "\n",
    "plot(x,y)\n",
    "\n",
    "title('Figure 1: $f(x)=x^2$ plotted with 5 points')"
   ]
  },
  {
   "cell_type": "markdown",
   "metadata": {},
   "source": [
    "After storing our list of $x$-coordinates in the computer as `x`\n",
    "and the $y$-coordinates as `y`\n",
    "we can easily call them back."
   ]
  },
  {
   "cell_type": "code",
   "execution_count": null,
   "metadata": {},
   "outputs": [],
   "source": [
    "x"
   ]
  },
  {
   "cell_type": "markdown",
   "metadata": {},
   "source": [
    "Figure 1 shows that our graph isn’t quite what we expected. Rather than looking like a familiar parabola, we see a sequence of straight lines. How can we fix that? By taking more points. We have an easy way of taking more points, we can generate a 100 of them with the command `linspace(-2,2)` and, if need be, 1,000 with the command `linspace(-2,2,1000)`. However, we don’t want to do all the squaring by hand. Rather Python should do the work. The next example shows how to do this for $f(x) = x^2$, and later on in this project we’ll see how to do this for other functions."
   ]
  },
  {
   "cell_type": "code",
   "execution_count": null,
   "metadata": {},
   "outputs": [],
   "source": [
    "x = linspace(-2,2)\n",
    "y = x**2\n",
    "plot(x,y)\n",
    "title('Figure 2: $f(x)=x^2$ plotted using 100 points')"
   ]
  },
  {
   "cell_type": "markdown",
   "metadata": {},
   "source": [
    "Using more points requires no more labor on your part than using just 5 points. If we didn’t have enough we’d take more and replot. However, our graph (in Figure 2) now looks okay. Even though it may no longer be evident, the graph still consists of a sequence of straight lines!\n",
    "\n",
    "We repeat the previous example with a different function."
   ]
  },
  {
   "cell_type": "markdown",
   "metadata": {},
   "source": [
    "## Example 2\n",
    "\n",
    "We want to graph the function $f(x) = e^x$ over the interval $[-1, 1]$.\n",
    "We’ll need to know that in Python the function `exp(x)` performs $e^x$. Other than that, this example follows the three steps in plotting.\n",
    "\n",
    "**Step 1.**\n",
    "We want to plot the function over the interval [−1, 1]. To do so, we first choose evenly spaced points between −1 and 1 with a step size of 0.5\n",
    "\n",
    "**Step 2.**\n",
    "We then define the y values for each $x$ value using `exp`\n",
    "\n",
    "**Step 3.**\n",
    "Finally we use `plot( )` to view the function’s graph"
   ]
  },
  {
   "cell_type": "code",
   "execution_count": null,
   "metadata": {},
   "outputs": [],
   "source": [
    "x = r_[-1:1.5:0.5]\n",
    "y = exp(x)\n",
    "x, y"
   ]
  },
  {
   "cell_type": "code",
   "execution_count": null,
   "metadata": {},
   "outputs": [],
   "source": [
    "plot(x,y)\n",
    "title('Figure 3: $f(x)=e^x$ plotted with 5 points')"
   ]
  },
  {
   "cell_type": "markdown",
   "metadata": {},
   "source": [
    "As shown in Figure 3, this graph created with 5 sample points in $[-1, 1]$ is obviously not so smooth. To obtain a smooth looking curve one needs to define more $x$ points. The exact number varies depending on how rapidly the function varies over its domain. We start with the simple default of **50** using `linspace` and see if this is enough:"
   ]
  },
  {
   "cell_type": "code",
   "execution_count": null,
   "metadata": {},
   "outputs": [],
   "source": [
    "x = linspace(-1,1)\n",
    "y = exp(x)\n",
    "plot(x,y)\n",
    "title('Figure 4: $f(x)=e^x$ plotted with 50 points.')\n",
    "grid()"
   ]
  },
  {
   "cell_type": "markdown",
   "metadata": {},
   "source": [
    "The graph in Figure 4 shows that 50 points is sufficient to present a smooth looking curve.\n",
    "\n",
    "It is important that even though only the line defining the values for $x$ is different, you must again evaluate the second and third lines. The values stored in **$y$ don't update automatically**. If you forgot to recreate the $y$ values, you would be trying to pair off the 50 $x$ values with only 5 $y$ values and an error would occur. For such a simple function we could have avoided this step in Figure 4 by defining $y$ within the plot function, as in:"
   ]
  },
  {
   "cell_type": "code",
   "execution_count": null,
   "metadata": {},
   "outputs": [],
   "source": [
    "x = linspace(-1,1)\n",
    "plot(x, exp(x))"
   ]
  },
  {
   "cell_type": "markdown",
   "metadata": {},
   "source": [
    "## Exercise 1\n",
    "\n",
    "Create a graph of $y = \\cos 4x$ over $[0, \\pi]$. To illustrate what happens when there are too few points in your domain, first try **a step size of $\\pi/10$** (`pi/10`).\n",
    "\n",
    "**(Q1)** Which command gives the desired values for x?\n",
    "\n",
    "* `x = 0:pi/10:pi`\n",
    "* `x = 0:pi:pi/10`\n",
    "* `x = linspace(0,pi)`"
   ]
  },
  {
   "cell_type": "code",
   "execution_count": null,
   "metadata": {},
   "outputs": [],
   "source": [
    "# Type your answer in a comment here\n",
    "\n"
   ]
  },
  {
   "cell_type": "markdown",
   "metadata": {},
   "source": [
    "**(Q2)** Which command gives the correct answer for y?\n",
    "\n",
    "* `y = cos(4x)`\n",
    "* `y = cos4*x`\n",
    "* `y = cos(4*x)`"
   ]
  },
  {
   "cell_type": "code",
   "execution_count": null,
   "metadata": {},
   "outputs": [],
   "source": [
    "# Type your answer in a comment here\n",
    "\n"
   ]
  },
  {
   "cell_type": "markdown",
   "metadata": {},
   "source": [
    "**(Q3)** Plot your graph with the plot command."
   ]
  },
  {
   "cell_type": "code",
   "execution_count": null,
   "metadata": {},
   "outputs": [],
   "source": [
    "# Type and run your code here.\n",
    "\n"
   ]
  },
  {
   "cell_type": "markdown",
   "metadata": {},
   "source": [
    "**(Q3)** Redo your plot, this time using the command `x=linspace(0,pi)` to define the $x$ array. Which plot looks more like the plot of a cosine curve?\n",
    "\n",
    "* The first one\n",
    "* the second one\n",
    "* both of them"
   ]
  },
  {
   "cell_type": "code",
   "execution_count": null,
   "metadata": {},
   "outputs": [],
   "source": [
    "# Type an run your code here\n",
    "\n"
   ]
  },
  {
   "cell_type": "markdown",
   "metadata": {},
   "source": [
    "## Exercise 2\n",
    "\n",
    "We wish to plot the function $f(x)=e^{\\cos x}$ over the interval $[0,2\\pi]$.\n",
    "\n",
    "**(Q4)** What command generates a sufficient number of values for $x$?\n",
    "\n",
    "* `linspace(0,2*pi)`\n",
    "* `linspace(0,100,2*pi)`\n",
    "* `r_[0:2*pi]`\n",
    "* `r_[0:0.01:2*pi]`\n",
    "\n",
    "**(Q5)** Which command will generate the corresponding y$ $values\n",
    "\n",
    "* `exp^cos(x)`\n",
    "* `e^cos(x)`\n",
    "* `exp(cos(x))`\n",
    "* `exp(x)cos(x)`"
   ]
  },
  {
   "cell_type": "markdown",
   "metadata": {},
   "source": [
    "## Algebraic expressions with arrays (\"vectors\")\n",
    "\n",
    "We now know pretty well how to create the values for $x$ using `linspace` or `r_`. To create the values of $y$ is by applying operations to $x$ is just as easy. We want to create the values simultaneously and so must use the proper Python syntax.\n",
    "For concreteness we call a single number a *scalar* and a set of numbers an *array* (known in MATLAB as a *vector*).\n",
    "\n",
    "Suppose we have two terms `a` and `b` and want to find one of these arithmetic operations: `a+b`, `a-b`, `a*b`, `a/b`, or `a**b`. The answer depends on the whether the terms are scalars or arrays:\n",
    "\n",
    "$\\color{red}\\bigtriangleup\\!\\!\\!\\!\\scriptstyle!\\,\\,\\,$\n",
    "The only things to watch out for is this:\n",
    "1. if both `a` and `b` are arrays then make sure **they have the same length**.\n",
    "1. $x^2$ in Python is written as `x**2`, *not* with a ^"
   ]
  },
  {
   "cell_type": "markdown",
   "metadata": {},
   "source": [
    "## Example 3\n",
    "\n",
    "Let’s see what happens if you don’t know how to work with arrays.\n",
    "\n",
    "First define $x$ to be the numbers 1 through 5."
   ]
  },
  {
   "cell_type": "code",
   "execution_count": null,
   "metadata": {},
   "outputs": [],
   "source": [
    "x = r_[1:6]\n",
    "x"
   ]
  },
  {
   "cell_type": "markdown",
   "metadata": {},
   "source": [
    "Do the following lines do what you expect?"
   ]
  },
  {
   "cell_type": "code",
   "execution_count": null,
   "metadata": {},
   "outputs": [],
   "source": [
    "x+10"
   ]
  },
  {
   "cell_type": "code",
   "execution_count": null,
   "metadata": {},
   "outputs": [],
   "source": [
    "10*x, x/10, x+10"
   ]
  },
  {
   "cell_type": "code",
   "execution_count": null,
   "metadata": {},
   "outputs": [],
   "source": [
    "10/x"
   ]
  },
  {
   "cell_type": "markdown",
   "metadata": {},
   "source": [
    "#### So what’s the fuss?\n",
    "\n",
    "In Python, there isn't any! In MATLAB and/or Julia, you may have learned to \"worry about dots.\" **In Python we do *NOT* use dots** when applying `+` `-` `/` `*` `**` to arrays or scalars."
   ]
  },
  {
   "cell_type": "markdown",
   "metadata": {},
   "source": [
    "$\\color{red}\\bigtriangleup\\!\\!\\!\\!\\scriptstyle!\\,\\,\\,$\n",
    "*Notice that* ***in Python, power is written*** `**`:"
   ]
  },
  {
   "cell_type": "code",
   "execution_count": null,
   "metadata": {},
   "outputs": [],
   "source": [
    "x, x**2, 10**x, x**x"
   ]
  },
  {
   "cell_type": "markdown",
   "metadata": {},
   "source": [
    "## Example 4\n",
    "\n",
    "Plot $y = \\sin x + \\cos 3x$ over the domain $[0, 2\\pi]$."
   ]
  },
  {
   "cell_type": "code",
   "execution_count": null,
   "metadata": {},
   "outputs": [],
   "source": [
    "x = linspace(0,2*pi)\n",
    "y = sin(x)+cos(3*x)\n",
    "plot(x,y)"
   ]
  },
  {
   "cell_type": "markdown",
   "metadata": {},
   "source": [
    "## Example 5\n",
    "\n",
    "Plot $y = e^{-x/2} \\cos 6x$ over the domain $[0, 10\\pi]$:"
   ]
  },
  {
   "cell_type": "code",
   "execution_count": null,
   "metadata": {},
   "outputs": [],
   "source": [
    "x = linspace(0, 10*pi, 300)\n",
    "y1 = exp(-x/2) # Here we break up the\n",
    "y2 = cos(6*x)  # computation into\n",
    "y = y1*y2      # bite-sized pieces\n",
    "plot(x,y)"
   ]
  },
  {
   "cell_type": "markdown",
   "metadata": {},
   "source": [
    "Again, python knows that the multiplication of these two *same-sized arrays* `y1` and `y2`is to be carried out element-by-element when we type `y1*y2` . To minimize the chance of errors, we broke the problem into intermediate calculations by using two variables `y1` and `y2`.\n",
    "\n",
    "## Example 6\n",
    "\n",
    "Plot $y = 1/(x^2 - 1)$ over the domain $[2,5]$:"
   ]
  },
  {
   "cell_type": "code",
   "execution_count": null,
   "metadata": {},
   "outputs": [],
   "source": [
    "x = r_[2:5.1:0.1]\n",
    "y = 1/(x**2-1)\n",
    "plot(x,y)"
   ]
  },
  {
   "cell_type": "markdown",
   "metadata": {},
   "source": [
    "## Exercise 3\n",
    "\n",
    "Define $a$, $b$, and $c$ by"
   ]
  },
  {
   "cell_type": "code",
   "execution_count": null,
   "metadata": {},
   "outputs": [],
   "source": [
    "a = r_[1:21:2]\n",
    "b = r_[1:11]\n",
    "c = r_[1:12:2]"
   ]
  },
  {
   "cell_type": "markdown",
   "metadata": {},
   "source": [
    "Which of the following is/are defined?\n",
    "\n",
    "**(Q6)** `b+c`\n",
    "\n",
    "**(Q7)** `a + b`\n",
    "\n",
    "**(Q8)** `a./ b`\n",
    "\n",
    "**(Q9)** `a * b`\n",
    "\n",
    "**(Q10)** `a ^ 2`"
   ]
  },
  {
   "cell_type": "code",
   "execution_count": null,
   "metadata": {},
   "outputs": [],
   "source": []
  },
  {
   "cell_type": "code",
   "execution_count": null,
   "metadata": {},
   "outputs": [],
   "source": [
    "# Type your answer here in a comment:\n",
    "#\n",
    "# Q6\n",
    "# Q7\n",
    "# Q8\n",
    "# Q9\n",
    "# Q10"
   ]
  },
  {
   "cell_type": "markdown",
   "metadata": {},
   "source": [
    "### Exercise 4:\n",
    "\n",
    "**For all problems in this exercise, let $x=1,2,3$.**"
   ]
  },
  {
   "cell_type": "code",
   "execution_count": null,
   "metadata": {},
   "outputs": [],
   "source": [
    "x = r_[1:4]"
   ]
  },
  {
   "cell_type": "markdown",
   "metadata": {},
   "source": [
    "Translate the following math statements into Python commands. *To help, the correct output values for the function when $x=1,2,3$ is given to you.*\n",
    "\n",
    "**(For example)**\n",
    "Write Python commands to compute $x^3$.\n",
    "The output you get should be `array([ 1,  8, 27])`"
   ]
  },
  {
   "cell_type": "code",
   "execution_count": null,
   "metadata": {},
   "outputs": [],
   "source": [
    "# Write out and run your code here:\n",
    "\n",
    "x = r_[1:4]\n",
    "x**3"
   ]
  },
  {
   "cell_type": "markdown",
   "metadata": {},
   "source": [
    "**(Q10)** Write Python commands to compute $\\cos x \\sin x$.\n",
    "The output you should get is `array([ 0.45464871, -0.37840125, -0.13970775])`"
   ]
  },
  {
   "cell_type": "code",
   "execution_count": null,
   "metadata": {},
   "outputs": [],
   "source": [
    "# Write out and run your code here:\n",
    "\n"
   ]
  },
  {
   "cell_type": "markdown",
   "metadata": {},
   "source": [
    "**(Q11)** Write Python commands to compute\n",
    "$\\sin^2x$.\n",
    "Your code should produce `array([0.70807342, 0.82682181, 0.01991486])`\n"
   ]
  },
  {
   "cell_type": "code",
   "execution_count": null,
   "metadata": {},
   "outputs": [],
   "source": [
    "# Write out and run your code here:\n",
    "\n"
   ]
  },
  {
   "cell_type": "markdown",
   "metadata": {},
   "source": [
    "**(Q12)** Write Python commands to compute... $\\sin x^2$\n",
    "\n",
    "You should get `array([ 0.84147098, -0.7568025 ,  0.41211849])`"
   ]
  },
  {
   "cell_type": "code",
   "execution_count": null,
   "metadata": {},
   "outputs": [],
   "source": [
    "# Write out and run your code here:\n",
    "\n"
   ]
  },
  {
   "cell_type": "markdown",
   "metadata": {},
   "source": [
    "**(Q13)** Write Python commands to compute:\n",
    "$f(x) = 7x^2 \\sin \\frac1{7x^2}$\n",
    "\n",
    "You should get `array([0.99660211, 0.99978743, 0.99995801])`"
   ]
  },
  {
   "cell_type": "code",
   "execution_count": null,
   "metadata": {},
   "outputs": [],
   "source": [
    "# Write out and run your code here:\n",
    "\n"
   ]
  },
  {
   "cell_type": "markdown",
   "metadata": {},
   "source": [
    "**(Q14)** Write Python commands to compute:\n",
    "$f(x) = x - \\frac{\\cos x - \\sin x}{\\sin x + \\cos x}$\n",
    "\n",
    "You should get `array([1.2179581 , 4.68770694, 1.66751188])`"
   ]
  },
  {
   "cell_type": "code",
   "execution_count": null,
   "metadata": {},
   "outputs": [],
   "source": [
    "# Write out and run your code here:\n",
    "\n"
   ]
  },
  {
   "cell_type": "markdown",
   "metadata": {},
   "source": [
    "**(Q15)** Write Python commands to compute:\n",
    "$$f(x) = \\frac1{10} \\left(x - \\frac{x^{3/2}}{10}\\right)^2$$\n",
    "\n",
    "You should get `array([0.081     , 0.29486292, 0.61523085])`"
   ]
  },
  {
   "cell_type": "code",
   "execution_count": null,
   "metadata": {},
   "outputs": [],
   "source": [
    "# Write out and run your code here:\n",
    "\n"
   ]
  },
  {
   "cell_type": "markdown",
   "metadata": {},
   "source": [
    "## How to submit your work as a PDF\n",
    "\n",
    "**Plan A.** At the top of the webpage, go to...\n",
    "\n",
    "* **File** > **Export Notebook as...** > **Export Notebook to PDF**\n",
    "\n",
    "**Plan B.** If your computer's Python has not been set up correctly, you may get an error (you must have TeXLive or MacTeX, and Anaconda).\n",
    "\n",
    "So **IF** \"Export to PDF\" does not work, go to...\n",
    "\n",
    "* **File** > **Export Notebook as...** > **Export Notebook to HTML** >\n",
    "* a new browser window will open up: print it to PDF (**Command+P** then select printer: \"save to PDF\")\n"
   ]
  },
  {
   "cell_type": "markdown",
   "metadata": {},
   "source": [
    "## Exercise 5\n",
    "\n",
    "**(Q19)** Graph the function \n",
    "$f(x) = \\sin(\\frac\\pi2x) + \\sin(\\frac25\\pi x)$ \n",
    "over the interval $[0, 40]$."
   ]
  },
  {
   "cell_type": "code",
   "execution_count": null,
   "metadata": {},
   "outputs": [],
   "source": [
    "# Make your graph here\n",
    "\n"
   ]
  },
  {
   "cell_type": "markdown",
   "metadata": {},
   "source": [
    "**(Q16)** How many peaks (relative maxima) does the graph have?\n",
    "\n",
    "* 2\n",
    "* 3\n",
    "* 4\n",
    "* 5\n",
    "* none of the above"
   ]
  },
  {
   "cell_type": "markdown",
   "metadata": {},
   "source": [
    "**(Q17)** This function is periodic. How many periods are graphed in $[0, 40]$?\n",
    "\n",
    "* 2\n",
    "* 3\n",
    "* 4\n",
    "* 5\n",
    "* none of the above"
   ]
  },
  {
   "cell_type": "markdown",
   "metadata": {},
   "source": [
    "**(Q18)** Estimate from your graph the value of $f (10)$ to at least 1 decimal point."
   ]
  },
  {
   "cell_type": "code",
   "execution_count": null,
   "metadata": {},
   "outputs": [],
   "source": [
    "# Type your answer in a comment here:\n"
   ]
  },
  {
   "cell_type": "markdown",
   "metadata": {},
   "source": [
    "## Exercise 6\n",
    "\n",
    "**(Q20)** Graph the function $f(x)=\\cos^2x-\\sin^2x$ over the interval $[-2\\pi,2\\pi]$.\n",
    "Use 50 points in the domain."
   ]
  },
  {
   "cell_type": "code",
   "execution_count": null,
   "metadata": {},
   "outputs": [],
   "source": [
    "# Make your graph here\n"
   ]
  },
  {
   "cell_type": "markdown",
   "metadata": {},
   "source": [
    "**(Q21)** Does the graph resemble any graph that you are familiar with?\n",
    "\n",
    "* $\\cos 2x$\n",
    "* $\\cos x/2$\n",
    "* $\\cos x$"
   ]
  },
  {
   "cell_type": "code",
   "execution_count": null,
   "metadata": {},
   "outputs": [],
   "source": [
    "# Type your answer in a comment here:\n"
   ]
  },
  {
   "cell_type": "markdown",
   "metadata": {},
   "source": [
    "## Exercise 7\n",
    "For this exercise we look at the graph of the polynomial function \n",
    "$f (x) = x^3 - 20x^2 + 10x - 1$."
   ]
  },
  {
   "cell_type": "code",
   "execution_count": null,
   "metadata": {},
   "outputs": [],
   "source": [
    "# Type your answer in a comment here:\n"
   ]
  },
  {
   "cell_type": "markdown",
   "metadata": {},
   "source": [
    "**(Q22)** First plot the function over the interval $[-10, 10]$. What is the approximate range for the $y$-axis?\n",
    "\n",
    "* $[-10,10]$\n",
    "* $(-10,10)$\n",
    "* $[-3100,0]$\n",
    "* $[0, 2\\pi]$"
   ]
  },
  {
   "cell_type": "code",
   "execution_count": null,
   "metadata": {},
   "outputs": [],
   "source": [
    "# Type your answer in a comment here:\n"
   ]
  },
  {
   "cell_type": "markdown",
   "metadata": {},
   "source": [
    "**(Q23)** We wish to investigate when (if) this function is positive. We can’t readily tell from our graph so we will replot over a smaller domain. Which of these domains seems appropriate for this task?\n",
    "\n",
    "* $[0,500]$\n",
    "* $[0,10]$\n",
    "* $[-1,1]$\n",
    "* $[0, 2\\pi]$"
   ]
  },
  {
   "cell_type": "code",
   "execution_count": null,
   "metadata": {},
   "outputs": [],
   "source": [
    "# Type your answer in a comment here:\n"
   ]
  },
  {
   "cell_type": "markdown",
   "metadata": {},
   "source": [
    "**(Q24)**\n",
    "Replot the graph over the selected domain. Turn on the grid by entering the command `grid()` on its own line.\n",
    "From your graph, which of these $x$ values have $f (x) > 0?$ Indicate all that apply:\n",
    "\n",
    "* 0\n",
    "* 0.25\n",
    "* 0.50\n",
    "* 0.75"
   ]
  },
  {
   "cell_type": "code",
   "execution_count": null,
   "metadata": {},
   "outputs": [],
   "source": [
    "# Type your answer in a comment here:\n"
   ]
  },
  {
   "cell_type": "code",
   "execution_count": null,
   "metadata": {},
   "outputs": [],
   "source": [
    "# Enter your code that produces the graph WITH A GRID here\n"
   ]
  }
 ],
 "metadata": {
  "kernelspec": {
   "display_name": "Python 3",
   "language": "python",
   "name": "python3"
  },
  "language_info": {
   "codemirror_mode": {
    "name": "ipython",
    "version": 3
   },
   "file_extension": ".py",
   "mimetype": "text/x-python",
   "name": "python",
   "nbconvert_exporter": "python",
   "pygments_lexer": "ipython3",
   "version": "3.7.4"
  }
 },
 "nbformat": 4,
 "nbformat_minor": 4
}
